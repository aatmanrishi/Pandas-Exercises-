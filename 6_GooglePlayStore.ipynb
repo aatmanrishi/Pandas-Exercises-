{
 "cells": [
  {
   "cell_type": "code",
   "execution_count": 146,
   "metadata": {},
   "outputs": [],
   "source": [
    "import pandas as pd ;\n",
    "import matplotlib.pyplot as plt ;\n",
    "import seaborn as sns ;"
   ]
  },
  {
   "cell_type": "markdown",
   "metadata": {},
   "source": [
    "Read Data From CSV File"
   ]
  },
  {
   "cell_type": "code",
   "execution_count": 147,
   "metadata": {},
   "outputs": [],
   "source": [
    "df = pd.read_csv(\"googleplaystore.csv\");"
   ]
  },
  {
   "cell_type": "markdown",
   "metadata": {},
   "source": [
    "Display Top 5 And Bottom 5 Rows "
   ]
  },
  {
   "cell_type": "code",
   "execution_count": 148,
   "metadata": {},
   "outputs": [
    {
     "name": "stdout",
     "output_type": "stream",
     "text": [
      "                                                 App        Category  Rating   \n",
      "0     Photo Editor & Candy Camera & Grid & ScrapBook  ART_AND_DESIGN     4.1  \\\n",
      "1                                Coloring book moana  ART_AND_DESIGN     3.9   \n",
      "2  U Launcher Lite – FREE Live Cool Themes, Hide ...  ART_AND_DESIGN     4.7   \n",
      "3                              Sketch - Draw & Paint  ART_AND_DESIGN     4.5   \n",
      "4              Pixel Draw - Number Art Coloring Book  ART_AND_DESIGN     4.3   \n",
      "\n",
      "  Reviews  Size     Installs  Type Price Content Rating   \n",
      "0     159   19M      10,000+  Free     0       Everyone  \\\n",
      "1     967   14M     500,000+  Free     0       Everyone   \n",
      "2   87510  8.7M   5,000,000+  Free     0       Everyone   \n",
      "3  215644   25M  50,000,000+  Free     0           Teen   \n",
      "4     967  2.8M     100,000+  Free     0       Everyone   \n",
      "\n",
      "                      Genres      Last Updated         Current Ver   \n",
      "0               Art & Design   January 7, 2018               1.0.0  \\\n",
      "1  Art & Design;Pretend Play  January 15, 2018               2.0.0   \n",
      "2               Art & Design    August 1, 2018               1.2.4   \n",
      "3               Art & Design      June 8, 2018  Varies with device   \n",
      "4    Art & Design;Creativity     June 20, 2018                 1.1   \n",
      "\n",
      "    Android Ver  \n",
      "0  4.0.3 and up  \n",
      "1  4.0.3 and up  \n",
      "2  4.0.3 and up  \n",
      "3    4.2 and up  \n",
      "4    4.4 and up  \n",
      "                                                 App             Category   \n",
      "10838                         Parkinson Exercices FR              MEDICAL  \\\n",
      "10839                  The SCP Foundation DB fr nn5n  BOOKS_AND_REFERENCE   \n",
      "10840  iHoroscope - 2018 Daily Horoscope & Astrology            LIFESTYLE   \n",
      "\n",
      "       Rating Reviews                Size     Installs  Type Price   \n",
      "10838     NaN       3                9.5M       1,000+  Free     0  \\\n",
      "10839     4.5     114  Varies with device       1,000+  Free     0   \n",
      "10840     4.5  398307                 19M  10,000,000+  Free     0   \n",
      "\n",
      "      Content Rating             Genres      Last Updated         Current Ver   \n",
      "10838       Everyone            Medical  January 20, 2017                 1.0  \\\n",
      "10839     Mature 17+  Books & Reference  January 19, 2015  Varies with device   \n",
      "10840       Everyone          Lifestyle     July 25, 2018  Varies with device   \n",
      "\n",
      "              Android Ver  \n",
      "10838          2.2 and up  \n",
      "10839  Varies with device  \n",
      "10840  Varies with device  \n"
     ]
    }
   ],
   "source": [
    "print(df.head())\n",
    "print(df.tail(3))"
   ]
  },
  {
   "cell_type": "markdown",
   "metadata": {},
   "source": [
    "Getting The information about differnet rows and columns"
   ]
  },
  {
   "cell_type": "code",
   "execution_count": 149,
   "metadata": {},
   "outputs": [
    {
     "name": "stdout",
     "output_type": "stream",
     "text": [
      "<class 'pandas.core.frame.DataFrame'>\n",
      "RangeIndex: 10841 entries, 0 to 10840\n",
      "Data columns (total 13 columns):\n",
      " #   Column          Non-Null Count  Dtype  \n",
      "---  ------          --------------  -----  \n",
      " 0   App             10841 non-null  object \n",
      " 1   Category        10841 non-null  object \n",
      " 2   Rating          9367 non-null   float64\n",
      " 3   Reviews         10841 non-null  object \n",
      " 4   Size            10841 non-null  object \n",
      " 5   Installs        10841 non-null  object \n",
      " 6   Type            10840 non-null  object \n",
      " 7   Price           10841 non-null  object \n",
      " 8   Content Rating  10840 non-null  object \n",
      " 9   Genres          10841 non-null  object \n",
      " 10  Last Updated    10841 non-null  object \n",
      " 11  Current Ver     10833 non-null  object \n",
      " 12  Android Ver     10838 non-null  object \n",
      "dtypes: float64(1), object(12)\n",
      "memory usage: 1.1+ MB\n"
     ]
    }
   ],
   "source": [
    "df.info()"
   ]
  },
  {
   "cell_type": "markdown",
   "metadata": {},
   "source": [
    "Get Overall Statistics of our dataframe "
   ]
  },
  {
   "cell_type": "code",
   "execution_count": 150,
   "metadata": {},
   "outputs": [
    {
     "name": "stdout",
     "output_type": "stream",
     "text": [
      "            Rating\n",
      "count  9367.000000\n",
      "mean      4.193338\n",
      "std       0.537431\n",
      "min       1.000000\n",
      "25%       4.000000\n",
      "50%       4.300000\n",
      "75%       4.500000\n",
      "max      19.000000\n"
     ]
    }
   ],
   "source": [
    "print(df.describe());"
   ]
  },
  {
   "cell_type": "markdown",
   "metadata": {},
   "source": [
    "Total Number of App Title Contain Astrology"
   ]
  },
  {
   "cell_type": "code",
   "execution_count": 151,
   "metadata": {},
   "outputs": [
    {
     "data": {
      "text/plain": [
       "Index(['App', 'Category', 'Rating', 'Reviews', 'Size', 'Installs', 'Type',\n",
       "       'Price', 'Content Rating', 'Genres', 'Last Updated', 'Current Ver',\n",
       "       'Android Ver'],\n",
       "      dtype='object')"
      ]
     },
     "execution_count": 151,
     "metadata": {},
     "output_type": "execute_result"
    }
   ],
   "source": [
    "df.columns"
   ]
  },
  {
   "cell_type": "code",
   "execution_count": 152,
   "metadata": {},
   "outputs": [
    {
     "name": "stdout",
     "output_type": "stream",
     "text": [
      "3\n"
     ]
    }
   ],
   "source": [
    "print(len(df[df[\"App\"].str.contains('Astrology',case='False')]));"
   ]
  },
  {
   "cell_type": "markdown",
   "metadata": {},
   "source": [
    "Find the average App Ratings "
   ]
  },
  {
   "cell_type": "code",
   "execution_count": 153,
   "metadata": {},
   "outputs": [
    {
     "name": "stdout",
     "output_type": "stream",
     "text": [
      "4\n"
     ]
    }
   ],
   "source": [
    "print(round(df['Rating'].mean()));"
   ]
  },
  {
   "cell_type": "markdown",
   "metadata": {},
   "source": [
    "Find the total number of unique category"
   ]
  },
  {
   "cell_type": "code",
   "execution_count": 154,
   "metadata": {},
   "outputs": [
    {
     "name": "stdout",
     "output_type": "stream",
     "text": [
      "34\n",
      "34\n"
     ]
    }
   ],
   "source": [
    "print(len(df['Category'].unique()));\n",
    "print(df['Category'].nunique());"
   ]
  },
  {
   "cell_type": "markdown",
   "metadata": {},
   "source": [
    "Which Category Getting the highes Rating ?"
   ]
  },
  {
   "cell_type": "code",
   "execution_count": 155,
   "metadata": {},
   "outputs": [
    {
     "name": "stdout",
     "output_type": "stream",
     "text": [
      "Category\n",
      "1.9                    19.000000\n",
      "EVENTS                  4.435556\n",
      "EDUCATION               4.389032\n",
      "ART_AND_DESIGN          4.358065\n",
      "BOOKS_AND_REFERENCE     4.346067\n",
      "PERSONALIZATION         4.335987\n",
      "PARENTING               4.300000\n",
      "GAME                    4.286326\n",
      "BEAUTY                  4.278571\n",
      "HEALTH_AND_FITNESS      4.277104\n",
      "SHOPPING                4.259664\n",
      "SOCIAL                  4.255598\n",
      "WEATHER                 4.244000\n",
      "SPORTS                  4.223511\n",
      "PRODUCTIVITY            4.211396\n",
      "HOUSE_AND_HOME          4.197368\n",
      "FAMILY                  4.192272\n",
      "PHOTOGRAPHY             4.192114\n",
      "AUTO_AND_VEHICLES       4.190411\n",
      "MEDICAL                 4.189143\n",
      "LIBRARIES_AND_DEMO      4.178462\n",
      "FOOD_AND_DRINK          4.166972\n",
      "COMMUNICATION           4.158537\n",
      "COMICS                  4.155172\n",
      "NEWS_AND_MAGAZINES      4.132189\n",
      "FINANCE                 4.131889\n",
      "ENTERTAINMENT           4.126174\n",
      "BUSINESS                4.121452\n",
      "TRAVEL_AND_LOCAL        4.109292\n",
      "LIFESTYLE               4.094904\n",
      "VIDEO_PLAYERS           4.063750\n",
      "MAPS_AND_NAVIGATION     4.051613\n",
      "TOOLS                   4.047411\n",
      "DATING                  3.970769\n",
      "Name: Rating, dtype: float64\n"
     ]
    }
   ],
   "source": [
    "# df.groupby(\"Category\").mean().sort(ascending=False);\n",
    "# Wrong way - df[df.groupby(\"Category\")].mean(); #\n",
    "#Righ Way\n",
    "print(df.groupby('Category')['Rating'].mean().sort_values(ascending=False));"
   ]
  },
  {
   "cell_type": "markdown",
   "metadata": {},
   "source": [
    "Find the average rating of each Category"
   ]
  },
  {
   "cell_type": "code",
   "execution_count": 156,
   "metadata": {},
   "outputs": [
    {
     "name": "stdout",
     "output_type": "stream",
     "text": [
      "Category\n",
      "1.9                    19.000000\n",
      "ART_AND_DESIGN          4.358065\n",
      "AUTO_AND_VEHICLES       4.190411\n",
      "BEAUTY                  4.278571\n",
      "BOOKS_AND_REFERENCE     4.346067\n",
      "BUSINESS                4.121452\n",
      "COMICS                  4.155172\n",
      "COMMUNICATION           4.158537\n",
      "DATING                  3.970769\n",
      "EDUCATION               4.389032\n",
      "ENTERTAINMENT           4.126174\n",
      "EVENTS                  4.435556\n",
      "FAMILY                  4.192272\n",
      "FINANCE                 4.131889\n",
      "FOOD_AND_DRINK          4.166972\n",
      "GAME                    4.286326\n",
      "HEALTH_AND_FITNESS      4.277104\n",
      "HOUSE_AND_HOME          4.197368\n",
      "LIBRARIES_AND_DEMO      4.178462\n",
      "LIFESTYLE               4.094904\n",
      "MAPS_AND_NAVIGATION     4.051613\n",
      "MEDICAL                 4.189143\n",
      "NEWS_AND_MAGAZINES      4.132189\n",
      "PARENTING               4.300000\n",
      "PERSONALIZATION         4.335987\n",
      "PHOTOGRAPHY             4.192114\n",
      "PRODUCTIVITY            4.211396\n",
      "SHOPPING                4.259664\n",
      "SOCIAL                  4.255598\n",
      "SPORTS                  4.223511\n",
      "TOOLS                   4.047411\n",
      "TRAVEL_AND_LOCAL        4.109292\n",
      "VIDEO_PLAYERS           4.063750\n",
      "WEATHER                 4.244000\n",
      "Name: Rating, dtype: float64\n"
     ]
    }
   ],
   "source": [
    "print(df.groupby(\"Category\")[\"Rating\"].mean());"
   ]
  },
  {
   "cell_type": "markdown",
   "metadata": {},
   "source": [
    "Find the total Number of apps having 5 star rating "
   ]
  },
  {
   "cell_type": "code",
   "execution_count": 157,
   "metadata": {},
   "outputs": [
    {
     "name": "stdout",
     "output_type": "stream",
     "text": [
      "275\n",
      "\n",
      "\n",
      "App               275\n",
      "Category          275\n",
      "Rating            275\n",
      "Reviews           275\n",
      "Size              275\n",
      "Installs          275\n",
      "Type              275\n",
      "Price             275\n",
      "Content Rating    274\n",
      "Genres            275\n",
      "Last Updated      275\n",
      "Current Ver       275\n",
      "Android Ver       274\n",
      "dtype: int64\n",
      "\n",
      "\n",
      "275\n"
     ]
    }
   ],
   "source": [
    "print(len(df[df[\"Rating\"] >= 5]))\n",
    "print(\"\\n\")\n",
    "print(df[df[\"Rating\"] >= 5].count())\n",
    "print(\"\\n\")\n",
    "print(sum(df[\"Rating\"] >= 5))"
   ]
  },
  {
   "cell_type": "markdown",
   "metadata": {},
   "source": [
    "Find the average value of reviews "
   ]
  },
  {
   "cell_type": "code",
   "execution_count": 158,
   "metadata": {},
   "outputs": [],
   "source": [
    "df['Reviews'] = df['Reviews'].replace('3.0M', 3.0,inplace=True);\n"
   ]
  },
  {
   "cell_type": "code",
   "execution_count": 159,
   "metadata": {},
   "outputs": [
    {
     "data": {
      "text/plain": [
       "0       NaN\n",
       "1       NaN\n",
       "2       NaN\n",
       "3       NaN\n",
       "4       NaN\n",
       "         ..\n",
       "10836   NaN\n",
       "10837   NaN\n",
       "10838   NaN\n",
       "10839   NaN\n",
       "10840   NaN\n",
       "Name: Reviews, Length: 10841, dtype: float64"
      ]
     },
     "execution_count": 159,
     "metadata": {},
     "output_type": "execute_result"
    }
   ],
   "source": [
    "df[\"Reviews\"].astype('float')"
   ]
  },
  {
   "cell_type": "code",
   "execution_count": 160,
   "metadata": {},
   "outputs": [
    {
     "name": "stdout",
     "output_type": "stream",
     "text": [
      "nan\n"
     ]
    }
   ],
   "source": [
    "print(df[\"Reviews\"].mean());"
   ]
  },
  {
   "cell_type": "markdown",
   "metadata": {},
   "source": [
    "Find the total number of free and paid apps "
   ]
  },
  {
   "cell_type": "code",
   "execution_count": 161,
   "metadata": {},
   "outputs": [
    {
     "name": "stdout",
     "output_type": "stream",
     "text": [
      "Type\n",
      "Free    10039\n",
      "Paid      800\n",
      "0           1\n",
      "Name: count, dtype: int64\n"
     ]
    }
   ],
   "source": [
    "print(df[\"Type\"].value_counts());"
   ]
  },
  {
   "cell_type": "markdown",
   "metadata": {},
   "source": []
  },
  {
   "cell_type": "code",
   "execution_count": 162,
   "metadata": {},
   "outputs": [
    {
     "data": {
      "text/plain": [
       "Series([], Name: App, dtype: object)"
      ]
     },
     "execution_count": 162,
     "metadata": {},
     "output_type": "execute_result"
    }
   ],
   "source": [
    "df[df[\"Reviews\"].max() == df[\"Reviews\"]][\"App\"]"
   ]
  },
  {
   "cell_type": "markdown",
   "metadata": {},
   "source": [
    "Display Top 5 apps having highest Reviews"
   ]
  },
  {
   "cell_type": "markdown",
   "metadata": {},
   "source": [
    "Findt the average rating of Free and Paid Apps"
   ]
  },
  {
   "cell_type": "code",
   "execution_count": 163,
   "metadata": {},
   "outputs": [
    {
     "name": "stdout",
     "output_type": "stream",
     "text": [
      "Type\n",
      "0       19.000000\n",
      "Free     4.186203\n",
      "Paid     4.266615\n",
      "Name: Rating, dtype: float64\n"
     ]
    }
   ],
   "source": [
    "print(df.groupby('Type')[\"Rating\"].mean() ) ;"
   ]
  },
  {
   "cell_type": "markdown",
   "metadata": {},
   "source": [
    "Display Top 5 apps having maximum installs "
   ]
  },
  {
   "cell_type": "code",
   "execution_count": 179,
   "metadata": {},
   "outputs": [
    {
     "name": "stdout",
     "output_type": "stream",
     "text": [
      "0       Photo Editor & Candy Camera & Grid & ScrapBook\n",
      "1                                  Coloring book moana\n",
      "2    U Launcher Lite – FREE Live Cool Themes, Hide ...\n",
      "3                                Sketch - Draw & Paint\n",
      "4                Pixel Draw - Number Art Coloring Book\n",
      "Name: App, dtype: object\n"
     ]
    },
    {
     "name": "stderr",
     "output_type": "stream",
     "text": [
      "C:\\Users\\AC\\AppData\\Local\\Temp\\ipykernel_11392\\1247615763.py:6: UserWarning: Boolean Series key will be reindexed to match DataFrame index.\n",
      "  print(df[df[\"Installs\"].astype(int).notnull().sort_values(ascending = False)]['App'].head());\n"
     ]
    }
   ],
   "source": [
    "df['Installs']=df[\"Installs\"].str.replace(',','')\n",
    "df['Installs']=df[\"Installs\"].str.replace('+','')\n",
    "for i, value in enumerate(df['Installs']):\n",
    "    if value == 'Free': \n",
    "        df.drop(i, inplace=True, axis=0)  \n",
    "print(df[df[\"Installs\"].astype(int).notnull().sort_values(ascending = False)]['App'].head());"
   ]
  }
 ],
 "metadata": {
  "kernelspec": {
   "display_name": "Python 3",
   "language": "python",
   "name": "python3"
  },
  "language_info": {
   "codemirror_mode": {
    "name": "ipython",
    "version": 3
   },
   "file_extension": ".py",
   "mimetype": "text/x-python",
   "name": "python",
   "nbconvert_exporter": "python",
   "pygments_lexer": "ipython3",
   "version": "3.11.3"
  }
 },
 "nbformat": 4,
 "nbformat_minor": 2
}
