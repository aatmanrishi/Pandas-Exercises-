{
 "cells": [
  {
   "cell_type": "markdown",
   "metadata": {},
   "source": [
    "Importing All Required Libraries"
   ]
  },
  {
   "cell_type": "code",
   "execution_count": 385,
   "metadata": {},
   "outputs": [],
   "source": [
    "import pandas as pd ;\n",
    "import matplotlib.pyplot as plt ;\n",
    "import numpy as np ;\n",
    "import seaborn as sns ;"
   ]
  },
  {
   "cell_type": "markdown",
   "metadata": {},
   "source": [
    "Getting Data of Adult Income from required File "
   ]
  },
  {
   "cell_type": "code",
   "execution_count": 386,
   "metadata": {},
   "outputs": [],
   "source": [
    "df = pd.read_csv(\"adult.csv\");"
   ]
  },
  {
   "cell_type": "markdown",
   "metadata": {},
   "source": [
    "Display Top 10 Rows and Last 10 Rows"
   ]
  },
  {
   "cell_type": "code",
   "execution_count": 387,
   "metadata": {},
   "outputs": [
    {
     "name": "stdout",
     "output_type": "stream",
     "text": [
      "   age         workclass  fnlwgt     education  educational-num   \n",
      "0   25           Private  226802          11th                7  \\\n",
      "1   38           Private   89814       HS-grad                9   \n",
      "2   28         Local-gov  336951    Assoc-acdm               12   \n",
      "3   44           Private  160323  Some-college               10   \n",
      "4   18                 ?  103497  Some-college               10   \n",
      "5   34           Private  198693          10th                6   \n",
      "6   29                 ?  227026       HS-grad                9   \n",
      "7   63  Self-emp-not-inc  104626   Prof-school               15   \n",
      "8   24           Private  369667  Some-college               10   \n",
      "9   55           Private  104996       7th-8th                4   \n",
      "\n",
      "       marital-status         occupation   relationship   race  gender   \n",
      "0       Never-married  Machine-op-inspct      Own-child  Black    Male  \\\n",
      "1  Married-civ-spouse    Farming-fishing        Husband  White    Male   \n",
      "2  Married-civ-spouse    Protective-serv        Husband  White    Male   \n",
      "3  Married-civ-spouse  Machine-op-inspct        Husband  Black    Male   \n",
      "4       Never-married                  ?      Own-child  White  Female   \n",
      "5       Never-married      Other-service  Not-in-family  White    Male   \n",
      "6       Never-married                  ?      Unmarried  Black    Male   \n",
      "7  Married-civ-spouse     Prof-specialty        Husband  White    Male   \n",
      "8       Never-married      Other-service      Unmarried  White  Female   \n",
      "9  Married-civ-spouse       Craft-repair        Husband  White    Male   \n",
      "\n",
      "   capital-gain  capital-loss  hours-per-week native-country income  \n",
      "0             0             0              40  United-States  <=50K  \n",
      "1             0             0              50  United-States  <=50K  \n",
      "2             0             0              40  United-States   >50K  \n",
      "3          7688             0              40  United-States   >50K  \n",
      "4             0             0              30  United-States  <=50K  \n",
      "5             0             0              30  United-States  <=50K  \n",
      "6             0             0              40  United-States  <=50K  \n",
      "7          3103             0              32  United-States   >50K  \n",
      "8             0             0              40  United-States  <=50K  \n",
      "9             0             0              10  United-States  <=50K  \n",
      "       age     workclass  fnlwgt     education  educational-num   \n",
      "48832   32       Private   34066          10th                6  \\\n",
      "48833   43       Private   84661     Assoc-voc               11   \n",
      "48834   32       Private  116138       Masters               14   \n",
      "48835   53       Private  321865       Masters               14   \n",
      "48836   22       Private  310152  Some-college               10   \n",
      "48837   27       Private  257302    Assoc-acdm               12   \n",
      "48838   40       Private  154374       HS-grad                9   \n",
      "48839   58       Private  151910       HS-grad                9   \n",
      "48840   22       Private  201490       HS-grad                9   \n",
      "48841   52  Self-emp-inc  287927       HS-grad                9   \n",
      "\n",
      "           marital-status         occupation   relationship   \n",
      "48832  Married-civ-spouse  Handlers-cleaners        Husband  \\\n",
      "48833  Married-civ-spouse              Sales        Husband   \n",
      "48834       Never-married       Tech-support  Not-in-family   \n",
      "48835  Married-civ-spouse    Exec-managerial        Husband   \n",
      "48836       Never-married    Protective-serv  Not-in-family   \n",
      "48837  Married-civ-spouse       Tech-support           Wife   \n",
      "48838  Married-civ-spouse  Machine-op-inspct        Husband   \n",
      "48839             Widowed       Adm-clerical      Unmarried   \n",
      "48840       Never-married       Adm-clerical      Own-child   \n",
      "48841  Married-civ-spouse    Exec-managerial           Wife   \n",
      "\n",
      "                     race  gender  capital-gain  capital-loss  hours-per-week   \n",
      "48832  Amer-Indian-Eskimo    Male             0             0              40  \\\n",
      "48833               White    Male             0             0              45   \n",
      "48834  Asian-Pac-Islander    Male             0             0              11   \n",
      "48835               White    Male             0             0              40   \n",
      "48836               White    Male             0             0              40   \n",
      "48837               White  Female             0             0              38   \n",
      "48838               White    Male             0             0              40   \n",
      "48839               White  Female             0             0              40   \n",
      "48840               White    Male             0             0              20   \n",
      "48841               White  Female         15024             0              40   \n",
      "\n",
      "      native-country income  \n",
      "48832  United-States  <=50K  \n",
      "48833  United-States  <=50K  \n",
      "48834         Taiwan  <=50K  \n",
      "48835  United-States   >50K  \n",
      "48836  United-States  <=50K  \n",
      "48837  United-States  <=50K  \n",
      "48838  United-States   >50K  \n",
      "48839  United-States  <=50K  \n",
      "48840  United-States  <=50K  \n",
      "48841  United-States   >50K  \n"
     ]
    }
   ],
   "source": [
    "print(df.head(10))\n",
    "print(df.tail(10))"
   ]
  },
  {
   "cell_type": "markdown",
   "metadata": {},
   "source": [
    "Find the shape of data set"
   ]
  },
  {
   "cell_type": "code",
   "execution_count": 388,
   "metadata": {},
   "outputs": [
    {
     "name": "stdout",
     "output_type": "stream",
     "text": [
      "(48842, 15)\n",
      "15\n",
      "48842\n"
     ]
    }
   ],
   "source": [
    "print(df.shape)\n",
    "print(df.shape[1])\n",
    "print(df.shape[0])"
   ]
  },
  {
   "cell_type": "markdown",
   "metadata": {},
   "source": [
    "Getting Information about our Dataset like total Number Rows,Total Number of Columns , Datatypes of Each Columns and Memory Requirement."
   ]
  },
  {
   "cell_type": "code",
   "execution_count": 389,
   "metadata": {},
   "outputs": [
    {
     "name": "stdout",
     "output_type": "stream",
     "text": [
      "<class 'pandas.core.frame.DataFrame'>\n",
      "RangeIndex: 48842 entries, 0 to 48841\n",
      "Data columns (total 15 columns):\n",
      " #   Column           Non-Null Count  Dtype \n",
      "---  ------           --------------  ----- \n",
      " 0   age              48842 non-null  int64 \n",
      " 1   workclass        48842 non-null  object\n",
      " 2   fnlwgt           48842 non-null  int64 \n",
      " 3   education        48842 non-null  object\n",
      " 4   educational-num  48842 non-null  int64 \n",
      " 5   marital-status   48842 non-null  object\n",
      " 6   occupation       48842 non-null  object\n",
      " 7   relationship     48842 non-null  object\n",
      " 8   race             48842 non-null  object\n",
      " 9   gender           48842 non-null  object\n",
      " 10  capital-gain     48842 non-null  int64 \n",
      " 11  capital-loss     48842 non-null  int64 \n",
      " 12  hours-per-week   48842 non-null  int64 \n",
      " 13  native-country   48842 non-null  object\n",
      " 14  income           48842 non-null  object\n",
      "dtypes: int64(6), object(9)\n",
      "memory usage: 5.6+ MB\n",
      "None\n"
     ]
    }
   ],
   "source": [
    "print(df.info());\n"
   ]
  },
  {
   "cell_type": "markdown",
   "metadata": {},
   "source": [
    "Fetch Random Samples From The Dataset "
   ]
  },
  {
   "cell_type": "code",
   "execution_count": 390,
   "metadata": {},
   "outputs": [
    {
     "name": "stdout",
     "output_type": "stream",
     "text": [
      "       age    workclass  fnlwgt     education  educational-num   \n",
      "37295   53  Federal-gov   84278     Bachelors               13  \\\n",
      "10272   19            ?  199609  Some-college               10   \n",
      "39708   30      Private  169152       HS-grad                9   \n",
      "15191   59      Private  264048       HS-grad                9   \n",
      "37873   41      Private   98061       HS-grad                9   \n",
      "...    ...          ...     ...           ...              ...   \n",
      "28221   23      Private  150683  Some-college               10   \n",
      "9923    72      Private  149992       7th-8th                4   \n",
      "756     31    Local-gov  197550       HS-grad                9   \n",
      "23198   24      Private  284317     Bachelors               13   \n",
      "19420   22      Private   83704  Some-college               10   \n",
      "\n",
      "           marital-status        occupation   relationship   race  gender   \n",
      "37295  Married-civ-spouse   Exec-managerial        Husband  White    Male  \\\n",
      "10272       Never-married                 ?      Own-child  White  Female   \n",
      "39708       Never-married      Tech-support      Unmarried  White  Female   \n",
      "15191  Married-civ-spouse  Transport-moving        Husband  White    Male   \n",
      "37873            Divorced  Transport-moving  Not-in-family  White    Male   \n",
      "...                   ...               ...            ...    ...     ...   \n",
      "28221       Never-married   Exec-managerial      Own-child  White    Male   \n",
      "9923   Married-civ-spouse   Farming-fishing        Husband  White    Male   \n",
      "756              Divorced    Prof-specialty      Unmarried  White    Male   \n",
      "23198       Never-married     Other-service      Own-child  White  Female   \n",
      "19420       Never-married      Adm-clerical      Own-child  White    Male   \n",
      "\n",
      "       capital-gain  capital-loss  hours-per-week native-country income  \n",
      "37295             0             0              48  United-States   >50K  \n",
      "10272             0             0              20  United-States  <=50K  \n",
      "39708             0             0              40  United-States  <=50K  \n",
      "15191             0             0              35  United-States   >50K  \n",
      "37873             0             0              40  United-States  <=50K  \n",
      "...             ...           ...             ...            ...    ...  \n",
      "28221             0             0              40  United-States  <=50K  \n",
      "9923              0             0              35  United-States  <=50K  \n",
      "756               0             0              33  United-States  <=50K  \n",
      "23198             0             0              30  United-States  <=50K  \n",
      "19420             0             0              30  United-States  <=50K  \n",
      "\n",
      "[24421 rows x 15 columns]\n"
     ]
    }
   ],
   "source": [
    "print(df.sample(frac=0.50));"
   ]
  },
  {
   "cell_type": "markdown",
   "metadata": {},
   "source": [
    "Fetch Random Samples from the DataSet(75%)"
   ]
  },
  {
   "cell_type": "code",
   "execution_count": 391,
   "metadata": {},
   "outputs": [
    {
     "name": "stdout",
     "output_type": "stream",
     "text": [
      "       age workclass  fnlwgt     education  educational-num   \n",
      "38549   69   Private  125437       HS-grad                9  \\\n",
      "20490   26   Private  103700  Some-college               10   \n",
      "41443   17   Private  342752          11th                7   \n",
      "8205    31   Private  120461  Some-college               10   \n",
      "25085   30   Private   87469       HS-grad                9   \n",
      "...    ...       ...     ...           ...              ...   \n",
      "10822   38   Private  179731  Some-college               10   \n",
      "13028   47   Private  150429  Some-college               10   \n",
      "27819   47   Private  151584   Prof-school               15   \n",
      "44895   19   Private  138760       HS-grad                9   \n",
      "45532   28   Private  303440     Bachelors               13   \n",
      "\n",
      "           marital-status         occupation   relationship   \n",
      "38549            Divorced      Other-service  Not-in-family  \\\n",
      "20490       Never-married       Tech-support      Own-child   \n",
      "41443       Never-married      Other-service      Own-child   \n",
      "8205        Never-married    Exec-managerial  Not-in-family   \n",
      "25085       Never-married      Other-service  Not-in-family   \n",
      "...                   ...                ...            ...   \n",
      "10822  Married-civ-spouse    Exec-managerial           Wife   \n",
      "13028  Married-civ-spouse       Craft-repair        Husband   \n",
      "27819  Married-civ-spouse    Exec-managerial        Husband   \n",
      "44895       Never-married  Machine-op-inspct      Own-child   \n",
      "45532           Separated    Exec-managerial  Not-in-family   \n",
      "\n",
      "                     race  gender  capital-gain  capital-loss  hours-per-week   \n",
      "38549               White  Female             0             0              32  \\\n",
      "20490               White  Female             0             0              40   \n",
      "41443               White    Male             0             0              15   \n",
      "8205                White  Female             0             0              50   \n",
      "25085               White    Male             0             0              40   \n",
      "...                   ...     ...           ...           ...             ...   \n",
      "10822               White  Female             0             0              52   \n",
      "13028  Amer-Indian-Eskimo    Male             0             0              50   \n",
      "27819               White    Male          7688             0              60   \n",
      "44895               White    Male             0             0              40   \n",
      "45532               White  Female             0             0              50   \n",
      "\n",
      "      native-country income  \n",
      "38549  United-States  <=50K  \n",
      "20490  United-States  <=50K  \n",
      "41443  United-States  <=50K  \n",
      "8205   United-States  <=50K  \n",
      "25085  United-States  <=50K  \n",
      "...              ...    ...  \n",
      "10822  United-States  <=50K  \n",
      "13028  United-States   >50K  \n",
      "27819  United-States   >50K  \n",
      "44895  United-States  <=50K  \n",
      "45532  United-States   >50K  \n",
      "\n",
      "[36632 rows x 15 columns]\n"
     ]
    }
   ],
   "source": [
    "print(df.sample(frac=0.75));"
   ]
  },
  {
   "cell_type": "code",
   "execution_count": 392,
   "metadata": {},
   "outputs": [
    {
     "name": "stdout",
     "output_type": "stream",
     "text": [
      "       age     workclass  fnlwgt     education  educational-num   \n",
      "3946    33       Private  281685     Assoc-voc               11  \\\n",
      "5050    69       Private  192660       HS-grad                9   \n",
      "37753   33       Private  223212       HS-grad                9   \n",
      "28052   18       Private   36251          10th                6   \n",
      "48524   33       Private  198069       HS-grad                9   \n",
      "...    ...           ...     ...           ...              ...   \n",
      "38925   47             ?   99127     Assoc-voc               11   \n",
      "18032   38       Private  304651       HS-grad                9   \n",
      "27911   22   Federal-gov   65547  Some-college               10   \n",
      "8617    39     Local-gov   86643  Some-college               10   \n",
      "45086   63  Self-emp-inc   38472  Some-college               10   \n",
      "\n",
      "           marital-status         occupation   relationship   race  gender   \n",
      "3946            Separated     Prof-specialty  Not-in-family  White    Male  \\\n",
      "5050              Widowed       Adm-clerical      Unmarried  White  Female   \n",
      "37753            Divorced       Craft-repair      Unmarried  White    Male   \n",
      "28052       Never-married      Other-service      Own-child  White  Female   \n",
      "48524       Never-married  Machine-op-inspct  Not-in-family  White    Male   \n",
      "...                   ...                ...            ...    ...     ...   \n",
      "38925  Married-civ-spouse                  ?        Husband  White    Male   \n",
      "18032            Divorced   Transport-moving  Not-in-family  White    Male   \n",
      "27911       Never-married    Exec-managerial  Not-in-family  Black    Male   \n",
      "8617   Married-civ-spouse    Protective-serv        Husband  White    Male   \n",
      "45086             Widowed              Sales  Not-in-family  White  Female   \n",
      "\n",
      "       capital-gain  capital-loss  hours-per-week native-country income  \n",
      "3946              0             0              40  United-States  <=50K  \n",
      "5050              0             0              20  United-States  <=50K  \n",
      "37753             0             0              40  United-States  <=50K  \n",
      "28052             0             0              15  United-States  <=50K  \n",
      "48524             0             0              65  United-States  <=50K  \n",
      "...             ...           ...             ...            ...    ...  \n",
      "38925             0             0              40  United-States   >50K  \n",
      "18032             0             0              60  United-States  <=50K  \n",
      "27911             0             0              40  United-States  <=50K  \n",
      "8617              0             0              48  United-States  <=50K  \n",
      "45086         14084             0              60  United-States   >50K  \n",
      "\n",
      "[4884 rows x 15 columns]\n"
     ]
    }
   ],
   "source": [
    "print(df.sample(frac=0.100));"
   ]
  },
  {
   "cell_type": "markdown",
   "metadata": {},
   "source": [
    "Check Null Values in Dataset "
   ]
  },
  {
   "cell_type": "code",
   "execution_count": 393,
   "metadata": {},
   "outputs": [
    {
     "name": "stdout",
     "output_type": "stream",
     "text": [
      "         age  workclass  fnlwgt  education  educational-num  marital-status   \n",
      "0      False      False   False      False            False           False  \\\n",
      "1      False      False   False      False            False           False   \n",
      "2      False      False   False      False            False           False   \n",
      "3      False      False   False      False            False           False   \n",
      "4      False      False   False      False            False           False   \n",
      "...      ...        ...     ...        ...              ...             ...   \n",
      "48837  False      False   False      False            False           False   \n",
      "48838  False      False   False      False            False           False   \n",
      "48839  False      False   False      False            False           False   \n",
      "48840  False      False   False      False            False           False   \n",
      "48841  False      False   False      False            False           False   \n",
      "\n",
      "       occupation  relationship   race  gender  capital-gain  capital-loss   \n",
      "0           False         False  False   False         False         False  \\\n",
      "1           False         False  False   False         False         False   \n",
      "2           False         False  False   False         False         False   \n",
      "3           False         False  False   False         False         False   \n",
      "4           False         False  False   False         False         False   \n",
      "...           ...           ...    ...     ...           ...           ...   \n",
      "48837       False         False  False   False         False         False   \n",
      "48838       False         False  False   False         False         False   \n",
      "48839       False         False  False   False         False         False   \n",
      "48840       False         False  False   False         False         False   \n",
      "48841       False         False  False   False         False         False   \n",
      "\n",
      "       hours-per-week  native-country  income  \n",
      "0               False           False   False  \n",
      "1               False           False   False  \n",
      "2               False           False   False  \n",
      "3               False           False   False  \n",
      "4               False           False   False  \n",
      "...               ...             ...     ...  \n",
      "48837           False           False   False  \n",
      "48838           False           False   False  \n",
      "48839           False           False   False  \n",
      "48840           False           False   False  \n",
      "48841           False           False   False  \n",
      "\n",
      "[48842 rows x 15 columns]\n",
      "age                0\n",
      "workclass          0\n",
      "fnlwgt             0\n",
      "education          0\n",
      "educational-num    0\n",
      "marital-status     0\n",
      "occupation         0\n",
      "relationship       0\n",
      "race               0\n",
      "gender             0\n",
      "capital-gain       0\n",
      "capital-loss       0\n",
      "hours-per-week     0\n",
      "native-country     0\n",
      "income             0\n",
      "dtype: int64\n"
     ]
    }
   ],
   "source": [
    "print(df.isnull());\n",
    "print(df.isnull().sum());"
   ]
  },
  {
   "cell_type": "markdown",
   "metadata": {},
   "source": [
    "Perform Data Cleaning [Replace '?' with Nan]"
   ]
  },
  {
   "cell_type": "code",
   "execution_count": 394,
   "metadata": {},
   "outputs": [],
   "source": [
    "df = df.replace(to_replace='?',value= np.nan)"
   ]
  },
  {
   "cell_type": "markdown",
   "metadata": {},
   "source": [
    "Creating a Heat Map"
   ]
  },
  {
   "cell_type": "code",
   "execution_count": 395,
   "metadata": {},
   "outputs": [
    {
     "data": {
      "image/png": "[encoded data removed]",
      "text/plain": [
       "<Figure size 640x480 with 2 Axes>"
      ]
     },
     "metadata": {},
     "output_type": "display_data"
    }
   ],
   "source": [
    "sns.heatmap(df.isnull());\n",
    "# Since there is no difference in color region so it means there is no null value .If there is difference in color then there it means ther are null values that is Nan"
   ]
  },
  {
   "cell_type": "markdown",
   "metadata": {},
   "source": [
    "If we want to find how many question marks are there then:"
   ]
  },
  {
   "cell_type": "code",
   "execution_count": 396,
   "metadata": {},
   "outputs": [
    {
     "name": "stdout",
     "output_type": "stream",
     "text": [
      "age                0\n",
      "workclass          0\n",
      "fnlwgt             0\n",
      "education          0\n",
      "educational-num    0\n",
      "marital-status     0\n",
      "occupation         0\n",
      "relationship       0\n",
      "race               0\n",
      "gender             0\n",
      "capital-gain       0\n",
      "capital-loss       0\n",
      "hours-per-week     0\n",
      "native-country     0\n",
      "income             0\n",
      "dtype: int64\n"
     ]
    }
   ],
   "source": [
    "print(df.isin(['?']).sum());"
   ]
  },
  {
   "cell_type": "markdown",
   "metadata": {},
   "source": [
    "Drop All Missing Values in all Cols in %"
   ]
  },
  {
   "cell_type": "code",
   "execution_count": 397,
   "metadata": {},
   "outputs": [
    {
     "name": "stdout",
     "output_type": "stream",
     "text": [
      "age                0.000000\n",
      "workclass          5.730724\n",
      "fnlwgt             0.000000\n",
      "education          0.000000\n",
      "educational-num    0.000000\n",
      "marital-status     0.000000\n",
      "occupation         5.751198\n",
      "relationship       0.000000\n",
      "race               0.000000\n",
      "gender             0.000000\n",
      "capital-gain       0.000000\n",
      "capital-loss       0.000000\n",
      "hours-per-week     0.000000\n",
      "native-country     1.754637\n",
      "income             0.000000\n",
      "dtype: float64\n"
     ]
    }
   ],
   "source": [
    "per_missing = (df.isnull().sum())*100/len(df);\n",
    "print(per_missing);"
   ]
  },
  {
   "cell_type": "markdown",
   "metadata": {},
   "source": [
    "Dropping rows having null values"
   ]
  },
  {
   "cell_type": "code",
   "execution_count": 398,
   "metadata": {},
   "outputs": [],
   "source": [
    "df.dropna(how=\"any\",inplace =True);\n"
   ]
  },
  {
   "cell_type": "markdown",
   "metadata": {},
   "source": [
    "Checking For Duplicate "
   ]
  },
  {
   "cell_type": "code",
   "execution_count": 399,
   "metadata": {},
   "outputs": [
    {
     "name": "stdout",
     "output_type": "stream",
     "text": [
      "True\n"
     ]
    }
   ],
   "source": [
    "dup = df.duplicated().any();\n",
    "print(dup);\n",
    "# If we get output equalls to be true then it means there are duplicated Value"
   ]
  },
  {
   "cell_type": "markdown",
   "metadata": {},
   "source": [
    "Drop Duplicate Values"
   ]
  },
  {
   "cell_type": "code",
   "execution_count": 400,
   "metadata": {},
   "outputs": [],
   "source": [
    "df = df.drop_duplicates();\n",
    "df.shape;"
   ]
  },
  {
   "cell_type": "markdown",
   "metadata": {},
   "source": [
    "Get Overall Statistics Of DataFrame"
   ]
  },
  {
   "cell_type": "code",
   "execution_count": 401,
   "metadata": {},
   "outputs": [
    {
     "name": "stdout",
     "output_type": "stream",
     "text": [
      "                 age workclass        fnlwgt education  educational-num   \n",
      "count   45175.000000     45175  4.517500e+04     45175     45175.000000  \\\n",
      "unique           NaN         7           NaN        16              NaN   \n",
      "top              NaN   Private           NaN   HS-grad              NaN   \n",
      "freq             NaN     33262           NaN     14770              NaN   \n",
      "mean       38.556170       NaN  1.897388e+05       NaN        10.119314   \n",
      "std        13.215349       NaN  1.056524e+05       NaN         2.551740   \n",
      "min        17.000000       NaN  1.349200e+04       NaN         1.000000   \n",
      "25%        28.000000       NaN  1.173925e+05       NaN         9.000000   \n",
      "50%        37.000000       NaN  1.783120e+05       NaN        10.000000   \n",
      "75%        47.000000       NaN  2.379030e+05       NaN        13.000000   \n",
      "max        90.000000       NaN  1.490400e+06       NaN        16.000000   \n",
      "\n",
      "            marital-status    occupation relationship   race gender   \n",
      "count                45175         45175        45175  45175  45175  \\\n",
      "unique                   7            14            6      5      2   \n",
      "top     Married-civ-spouse  Craft-repair      Husband  White   Male   \n",
      "freq                 21042          6010        18653  38859  30495   \n",
      "mean                   NaN           NaN          NaN    NaN    NaN   \n",
      "std                    NaN           NaN          NaN    NaN    NaN   \n",
      "min                    NaN           NaN          NaN    NaN    NaN   \n",
      "25%                    NaN           NaN          NaN    NaN    NaN   \n",
      "50%                    NaN           NaN          NaN    NaN    NaN   \n",
      "75%                    NaN           NaN          NaN    NaN    NaN   \n",
      "max                    NaN           NaN          NaN    NaN    NaN   \n",
      "\n",
      "        capital-gain  capital-loss  hours-per-week native-country income  \n",
      "count   45175.000000  45175.000000    45175.000000          45175  45175  \n",
      "unique           NaN           NaN             NaN             41      2  \n",
      "top              NaN           NaN             NaN  United-States  <=50K  \n",
      "freq             NaN           NaN             NaN          41256  33973  \n",
      "mean     1102.576270     88.687593       40.942512            NaN    NaN  \n",
      "std      7510.249876    405.156611       12.007730            NaN    NaN  \n",
      "min         0.000000      0.000000        1.000000            NaN    NaN  \n",
      "25%         0.000000      0.000000       40.000000            NaN    NaN  \n",
      "50%         0.000000      0.000000       40.000000            NaN    NaN  \n",
      "75%         0.000000      0.000000       45.000000            NaN    NaN  \n",
      "max     99999.000000   4356.000000       99.000000            NaN    NaN  \n"
     ]
    }
   ],
   "source": [
    "print(df.describe(include=\"all\"));"
   ]
  },
  {
   "cell_type": "markdown",
   "metadata": {},
   "source": [
    "In Capital Loss and Capital gain we can saw from describe method that there are approx 75% values 0 in both Columns"
   ]
  },
  {
   "cell_type": "markdown",
   "metadata": {},
   "source": [
    "Getting value of all education levels"
   ]
  },
  {
   "cell_type": "code",
   "execution_count": 402,
   "metadata": {},
   "outputs": [
    {
     "name": "stdout",
     "output_type": "stream",
     "text": [
      "['11th' 'HS-grad' 'Assoc-acdm' 'Some-college' '10th' 'Prof-school'\n",
      " '7th-8th' 'Bachelors' 'Masters' '5th-6th' 'Assoc-voc' '9th' 'Doctorate'\n",
      " '12th' '1st-4th' 'Preschool']\n"
     ]
    }
   ],
   "source": [
    "print(df['education'].unique())"
   ]
  },
  {
   "cell_type": "code",
   "execution_count": 403,
   "metadata": {},
   "outputs": [
    {
     "name": "stdout",
     "output_type": "stream",
     "text": [
      "[ 7  9 12 10  6 15  4 13 14  3 11  5 16  8  2  1]\n"
     ]
    }
   ],
   "source": [
    "print(df[\"educational-num\"].unique());\n",
    "#Since both education and education-num represent education level but education is more precised and expressive we can drop education-num"
   ]
  },
  {
   "cell_type": "markdown",
   "metadata": {},
   "source": [
    "Dropping Education Num Column"
   ]
  },
  {
   "cell_type": "code",
   "execution_count": 404,
   "metadata": {},
   "outputs": [
    {
     "name": "stdout",
     "output_type": "stream",
     "text": [
      "None\n",
      "Index(['age', 'workclass', 'fnlwgt', 'education', 'marital-status',\n",
      "       'occupation', 'relationship', 'race', 'gender', 'hours-per-week',\n",
      "       'native-country', 'income'],\n",
      "      dtype='object')\n"
     ]
    }
   ],
   "source": [
    "print(df.drop([\"educational-num\",\"capital-gain\",\"capital-loss\"],axis=1,inplace=True));\n",
    "print(df.columns);"
   ]
  },
  {
   "cell_type": "markdown",
   "metadata": {},
   "source": [
    "Univariate Analysis"
   ]
  },
  {
   "cell_type": "markdown",
   "metadata": {},
   "source": [
    "Here we dig one variable at a time and peroform analysis over it "
   ]
  },
  {
   "cell_type": "markdown",
   "metadata": {},
   "source": [
    "What is the distribution of Age Column?"
   ]
  },
  {
   "cell_type": "code",
   "execution_count": 405,
   "metadata": {},
   "outputs": [
    {
     "data": {
      "image/png": "[encoded data removed]",
      "text/plain": [
       "<Figure size 640x480 with 1 Axes>"
      ]
     },
     "metadata": {},
     "output_type": "display_data"
    }
   ],
   "source": [
    "df[\"age\"].describe();\n",
    "sns.histplot(data=df[\"age\"]);\n",
    "plt.show();"
   ]
  },
  {
   "cell_type": "markdown",
   "metadata": {},
   "source": [
    "Another way"
   ]
  },
  {
   "cell_type": "code",
   "execution_count": 406,
   "metadata": {},
   "outputs": [
    {
     "data": {
      "image/png": "[encoded data removed]",
      "text/plain": [
       "<Figure size 640x480 with 1 Axes>"
      ]
     },
     "metadata": {},
     "output_type": "display_data"
    }
   ],
   "source": [
    "df[\"age\"].hist();"
   ]
  },
  {
   "cell_type": "markdown",
   "metadata": {},
   "source": [
    "Finde total number of perosn having age between 17 to 48 (inclusive) using between method :"
   ]
  },
  {
   "cell_type": "code",
   "execution_count": 407,
   "metadata": {},
   "outputs": [
    {
     "data": {
      "text/plain": [
       "34858"
      ]
     },
     "execution_count": 407,
     "metadata": {},
     "output_type": "execute_result"
    }
   ],
   "source": [
    "sum((df['age']>=17) & (df['age']<=48)) "
   ]
  },
  {
   "cell_type": "markdown",
   "metadata": {},
   "source": [
    "Another way "
   ]
  },
  {
   "cell_type": "code",
   "execution_count": 408,
   "metadata": {},
   "outputs": [],
   "source": [
    "sum(df['age'].between(17,48)) ;"
   ]
  },
  {
   "cell_type": "markdown",
   "metadata": {},
   "source": [
    "What is Distribution of Work Class Column"
   ]
  },
  {
   "cell_type": "code",
   "execution_count": 409,
   "metadata": {},
   "outputs": [
    {
     "data": {
      "image/png": "[encoded data removed]",
      "text/plain": [
       "<Figure size 640x480 with 1 Axes>"
      ]
     },
     "metadata": {},
     "output_type": "display_data"
    }
   ],
   "source": [
    "df[\"workclass\"].hist();"
   ]
  },
  {
   "cell_type": "markdown",
   "metadata": {},
   "source": [
    "How many Persons have Bachelors and Master Degree"
   ]
  },
  {
   "cell_type": "code",
   "execution_count": 410,
   "metadata": {},
   "outputs": [
    {
     "name": "stdout",
     "output_type": "stream",
     "text": [
      "['11th' 'HS-grad' 'Assoc-acdm' 'Some-college' '10th' 'Prof-school'\n",
      " '7th-8th' 'Bachelors' 'Masters' '5th-6th' 'Assoc-voc' '9th' 'Doctorate'\n",
      " '12th' '1st-4th' 'Preschool']\n"
     ]
    }
   ],
   "source": [
    "print(df[\"education\"].unique()) ; "
   ]
  },
  {
   "cell_type": "code",
   "execution_count": 411,
   "metadata": {},
   "outputs": [
    {
     "name": "stdout",
     "output_type": "stream",
     "text": [
      "0        False\n",
      "1        False\n",
      "2        False\n",
      "3        False\n",
      "5        False\n",
      "         ...  \n",
      "48837    False\n",
      "48838    False\n",
      "48839    False\n",
      "48840    False\n",
      "48841    False\n",
      "Name: education, Length: 45175, dtype: bool\n",
      "10072\n",
      "       age    workclass  fnlwgt  education      marital-status   \n",
      "11      36  Federal-gov  212465  Bachelors  Married-civ-spouse  \\\n",
      "15      43      Private  346189    Masters  Married-civ-spouse   \n",
      "20      34      Private  107914  Bachelors  Married-civ-spouse   \n",
      "23      25      Private  220931  Bachelors       Never-married   \n",
      "24      25      Private  205947  Bachelors  Married-civ-spouse   \n",
      "...    ...          ...     ...        ...                 ...   \n",
      "48817   34      Private  160216  Bachelors       Never-married   \n",
      "48819   38      Private  139180  Bachelors            Divorced   \n",
      "48825   31      Private  199655    Masters            Divorced   \n",
      "48834   32      Private  116138    Masters       Never-married   \n",
      "48835   53      Private  321865    Masters  Married-civ-spouse   \n",
      "\n",
      "            occupation   relationship                race  gender   \n",
      "11        Adm-clerical        Husband               White    Male  \\\n",
      "15     Exec-managerial        Husband               White    Male   \n",
      "20        Tech-support        Husband               White    Male   \n",
      "23      Prof-specialty  Not-in-family               White    Male   \n",
      "24      Prof-specialty        Husband               White    Male   \n",
      "...                ...            ...                 ...     ...   \n",
      "48817  Exec-managerial  Not-in-family               White  Female   \n",
      "48819   Prof-specialty      Unmarried               Black  Female   \n",
      "48825    Other-service  Not-in-family               Other  Female   \n",
      "48834     Tech-support  Not-in-family  Asian-Pac-Islander    Male   \n",
      "48835  Exec-managerial        Husband               White    Male   \n",
      "\n",
      "       hours-per-week native-country income  \n",
      "11                 40  United-States  <=50K  \n",
      "15                 50  United-States   >50K  \n",
      "20                 47  United-States   >50K  \n",
      "23                 43           Peru  <=50K  \n",
      "24                 40  United-States  <=50K  \n",
      "...               ...            ...    ...  \n",
      "48817              55  United-States   >50K  \n",
      "48819              45  United-States   >50K  \n",
      "48825              30  United-States  <=50K  \n",
      "48834              11         Taiwan  <=50K  \n",
      "48835              40  United-States   >50K  \n",
      "\n",
      "[10072 rows x 12 columns]\n"
     ]
    }
   ],
   "source": [
    "print((df[\"education\"] == \"Bachelors\" ) | (df[\"education\"]==\"Masters\"))\n",
    "print(sum((df[\"education\"] == \"Bachelors\" ) | (df[\"education\"]==\"Masters\")))\n",
    "print(df[(df[\"education\"] == \"Bachelors\" ) | (df[\"education\"]==\"Masters\")])"
   ]
  },
  {
   "cell_type": "markdown",
   "metadata": {},
   "source": [
    "Anohter way is to use init method"
   ]
  },
  {
   "cell_type": "code",
   "execution_count": 412,
   "metadata": {},
   "outputs": [
    {
     "name": "stdout",
     "output_type": "stream",
     "text": [
      "10072\n"
     ]
    }
   ],
   "source": [
    "print(sum(df[\"education\"].isin([\"Bachelors\",\"Masters\"])))"
   ]
  },
  {
   "cell_type": "markdown",
   "metadata": {},
   "source": [
    "Bivariate Analysis"
   ]
  },
  {
   "cell_type": "markdown",
   "metadata": {},
   "source": [
    "Creating a Box Plot Graph"
   ]
  },
  {
   "cell_type": "code",
   "execution_count": 413,
   "metadata": {},
   "outputs": [
    {
     "data": {
      "image/png": "[encoded data removed]",
      "text/plain": [
       "<Figure size 640x480 with 1 Axes>"
      ]
     },
     "metadata": {},
     "output_type": "display_data"
    }
   ],
   "source": [
    "sns.boxplot(x=\"income\",y=\"age\",data = df );\n"
   ]
  },
  {
   "cell_type": "markdown",
   "metadata": {},
   "source": [
    "Replace Salary Values [<=50k , >50k] with 0 and 1"
   ]
  },
  {
   "cell_type": "code",
   "execution_count": 414,
   "metadata": {},
   "outputs": [
    {
     "name": "stdout",
     "output_type": "stream",
     "text": [
      "['<=50K' '>50K']\n"
     ]
    }
   ],
   "source": [
    "print(df[\"income\"].unique());"
   ]
  },
  {
   "cell_type": "code",
   "execution_count": 415,
   "metadata": {},
   "outputs": [],
   "source": [
    "df[\"income\"].replace(to_replace='<=50K',value=0,inplace=True)\n",
    "df[\"income\"].replace(to_replace='>50K',value=1,inplace=True)\n",
    "df.replace(\">50k\",1,inplace=True);"
   ]
  },
  {
   "cell_type": "code",
   "execution_count": 416,
   "metadata": {},
   "outputs": [
    {
     "data": {
      "text/plain": [
       "income\n",
       "0    33973\n",
       "1    11202\n",
       "Name: count, dtype: int64"
      ]
     },
     "execution_count": 416,
     "metadata": {},
     "output_type": "execute_result"
    }
   ],
   "source": [
    "df[\"income\"].value_counts()"
   ]
  },
  {
   "cell_type": "code",
   "execution_count": 417,
   "metadata": {},
   "outputs": [
    {
     "name": "stdout",
     "output_type": "stream",
     "text": [
      "0        0\n",
      "1        0\n",
      "2        1\n",
      "3        1\n",
      "5        0\n",
      "        ..\n",
      "48837    0\n",
      "48838    1\n",
      "48839    0\n",
      "48840    0\n",
      "48841    1\n",
      "Name: income, Length: 45175, dtype: int64\n"
     ]
    }
   ],
   "source": [
    "print(df[\"income\"]);"
   ]
  },
  {
   "cell_type": "markdown",
   "metadata": {},
   "source": [
    "Create A Count of Salary for Income "
   ]
  },
  {
   "cell_type": "code",
   "execution_count": 418,
   "metadata": {},
   "outputs": [
    {
     "data": {
      "text/plain": [
       "<Axes: xlabel='income', ylabel='count'>"
      ]
     },
     "execution_count": 418,
     "metadata": {},
     "output_type": "execute_result"
    },
    {
     "data": {
      "image/png": "[encoded data removed]",
      "text/plain": [
       "<Figure size 640x480 with 1 Axes>"
      ]
     },
     "metadata": {},
     "output_type": "display_data"
    }
   ],
   "source": [
    "sns.countplot(data=df, x=df[\"income\"])\n"
   ]
  },
  {
   "cell_type": "markdown",
   "metadata": {},
   "source": [
    "From Countplot ,we can see above graph that there are comparatively lower number of people earning more than 50k."
   ]
  },
  {
   "cell_type": "markdown",
   "metadata": {},
   "source": [
    "Anohter method to replace <=50k with 0 and >50k with 1 is as follows:\n"
   ]
  },
  {
   "cell_type": "code",
   "execution_count": 419,
   "metadata": {},
   "outputs": [],
   "source": [
    "def salary_data(sal): \n",
    "  if sal==\"<=50k\":\n",
    "   return 0\n",
    "  else:\n",
    "   return 1\n",
    "\n",
    "df[\"encoded Salary\"] = df[\"income\"].apply(salary_data);\n",
    "#df.replace(to_replace=[\">50k\",\"<=50k\"],value=[1,0],inplace=true)"
   ]
  },
  {
   "cell_type": "markdown",
   "metadata": {},
   "source": [
    "Which work class has highest salary?"
   ]
  },
  {
   "cell_type": "code",
   "execution_count": 420,
   "metadata": {},
   "outputs": [
    {
     "data": {
      "text/plain": [
       "Index(['age', 'workclass', 'fnlwgt', 'education', 'marital-status',\n",
       "       'occupation', 'relationship', 'race', 'gender', 'hours-per-week',\n",
       "       'native-country', 'income', 'encoded Salary'],\n",
       "      dtype='object')"
      ]
     },
     "execution_count": 420,
     "metadata": {},
     "output_type": "execute_result"
    }
   ],
   "source": [
    "df.columns"
   ]
  },
  {
   "cell_type": "code",
   "execution_count": 426,
   "metadata": {},
   "outputs": [
    {
     "name": "stdout",
     "output_type": "stream",
     "text": [
      "workclass\n",
      "Without-pay         0.095238\n",
      "Private             0.217816\n",
      "State-gov           0.267215\n",
      "Self-emp-not-inc    0.279051\n",
      "Local-gov           0.295161\n",
      "Federal-gov         0.390469\n",
      "Self-emp-inc        0.554407\n",
      "Name: income, dtype: float64\n"
     ]
    }
   ],
   "source": [
    "print(df.groupby('workclass')['income'].mean().sort_values());"
   ]
  },
  {
   "cell_type": "markdown",
   "metadata": {},
   "source": [
    "Which Occupation of People have high salary ;"
   ]
  },
  {
   "cell_type": "code",
   "execution_count": 443,
   "metadata": {},
   "outputs": [
    {
     "data": {
      "text/plain": [
       "occupation\n",
       "Priv-house-serv       13.043478\n",
       "Other-service         40.790843\n",
       "Handlers-cleaners     66.014670\n",
       "Farming-fishing      116.610169\n",
       "Machine-op-inspct    122.765599\n",
       "Adm-clerical         136.585366\n",
       "Transport-moving     206.390328\n",
       "Craft-repair         225.291181\n",
       "Sales                269.195190\n",
       "Armed-Forces         285.714286\n",
       "Tech-support         289.640592\n",
       "Protective-serv      314.871795\n",
       "Prof-specialty       450.258290\n",
       "Exec-managerial      479.096990\n",
       "Name: income, dtype: float64"
      ]
     },
     "execution_count": 443,
     "metadata": {},
     "output_type": "execute_result"
    }
   ],
   "source": [
    "df.groupby('occupation')['income'].mean().sort_values()*1000\n"
   ]
  },
  {
   "cell_type": "code",
   "execution_count": 444,
   "metadata": {},
   "outputs": [
    {
     "data": {
      "text/plain": [
       "<Axes: xlabel='occupation', ylabel='count'>"
      ]
     },
     "execution_count": 444,
     "metadata": {},
     "output_type": "execute_result"
    },
    {
     "data": {
      "image/png": "[encoded data removed]",
      "text/plain": [
       "<Figure size 640x480 with 1 Axes>"
      ]
     },
     "metadata": {},
     "output_type": "display_data"
    }
   ],
   "source": [
    "sns.countplot(data=df, x=df[\"occupation\"])\n"
   ]
  },
  {
   "cell_type": "markdown",
   "metadata": {},
   "source": [
    "which has better chance to get slaary >50k Male or Female"
   ]
  },
  {
   "cell_type": "code",
   "execution_count": 452,
   "metadata": {},
   "outputs": [
    {
     "name": "stdout",
     "output_type": "stream",
     "text": [
      "gender\n",
      "Female    11.369210\n",
      "Male      31.260862\n",
      "Name: income, dtype: float64\n"
     ]
    }
   ],
   "source": [
    "print(df.groupby('gender')['income'].mean().sort_values() *100);"
   ]
  },
  {
   "cell_type": "markdown",
   "metadata": {},
   "source": [
    "Convert Work Class Columns Data Types to Category Data Type"
   ]
  },
  {
   "cell_type": "code",
   "execution_count": 455,
   "metadata": {},
   "outputs": [
    {
     "name": "stdout",
     "output_type": "stream",
     "text": [
      "<class 'pandas.core.frame.DataFrame'>\n",
      "Index: 45175 entries, 0 to 48841\n",
      "Data columns (total 14 columns):\n",
      " #   Column             Non-Null Count  Dtype  \n",
      "---  ------             --------------  -----  \n",
      " 0   age                45175 non-null  int64  \n",
      " 1   workclass          45175 non-null  object \n",
      " 2   fnlwgt             45175 non-null  int64  \n",
      " 3   education          45175 non-null  object \n",
      " 4   marital-status     45175 non-null  object \n",
      " 5   occupation         45175 non-null  object \n",
      " 6   relationship       45175 non-null  object \n",
      " 7   race               45175 non-null  object \n",
      " 8   gender             45175 non-null  object \n",
      " 9   hours-per-week     45175 non-null  int64  \n",
      " 10  native-country     45175 non-null  object \n",
      " 11  income             45175 non-null  int64  \n",
      " 12  encoded Salary     45175 non-null  int64  \n",
      " 13  occupation_salary  0 non-null      float64\n",
      "dtypes: float64(1), int64(5), object(8)\n",
      "memory usage: 5.2+ MB\n"
     ]
    }
   ],
   "source": [
    "df.info();"
   ]
  },
  {
   "cell_type": "code",
   "execution_count": 456,
   "metadata": {},
   "outputs": [
    {
     "data": {
      "text/plain": [
       "0             Private\n",
       "1             Private\n",
       "2           Local-gov\n",
       "3             Private\n",
       "5             Private\n",
       "             ...     \n",
       "48837         Private\n",
       "48838         Private\n",
       "48839         Private\n",
       "48840         Private\n",
       "48841    Self-emp-inc\n",
       "Name: workclass, Length: 45175, dtype: category\n",
       "Categories (7, object): ['Federal-gov', 'Local-gov', 'Private', 'Self-emp-inc', 'Self-emp-not-inc', 'State-gov', 'Without-pay']"
      ]
     },
     "execution_count": 456,
     "metadata": {},
     "output_type": "execute_result"
    }
   ],
   "source": [
    "df['workclass'].astype('category')"
   ]
  }
 ],
 "metadata": {
  "kernelspec": {
   "display_name": "Python 3",
   "language": "python",
   "name": "python3"
  },
  "language_info": {
   "codemirror_mode": {
    "name": "ipython",
    "version": 3
   },
   "file_extension": ".py",
   "mimetype": "text/x-python",
   "name": "python",
   "nbconvert_exporter": "python",
   "pygments_lexer": "ipython3",
   "version": "3.11.3"
  }
 },
 "nbformat": 4,
 "nbformat_minor": 2
}
