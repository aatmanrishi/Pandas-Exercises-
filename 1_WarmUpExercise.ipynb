{
 "cells": [
  {
   "cell_type": "code",
   "execution_count": 123,
   "metadata": {},
   "outputs": [],
   "source": [
    "import pandas as pd ;"
   ]
  },
  {
   "cell_type": "markdown",
   "metadata": {},
   "source": [
    "Creating  a data frame"
   ]
  },
  {
   "cell_type": "code",
   "execution_count": 124,
   "metadata": {},
   "outputs": [
    {
     "name": "stdout",
     "output_type": "stream",
     "text": [
      "      Name  Marks  Gender\n",
      "0  Priyang     98    Male\n",
      "1   Aadhya     99  Female\n",
      "2   Vedant     87    Male\n",
      "3   Parshv     90    Male\n",
      "4   Mittal     53    Male\n",
      "5  Archana     99  Female\n"
     ]
    }
   ],
   "source": [
    "dict1 = {\n",
    "    \"Name\": [\"Priyang\", \"Aadhya\", \"Vedant\", \"Parshv\", \"Mittal\", \"Archana\"],\n",
    "    \"Marks\": [98, 99, 87, 90,53, 99],\n",
    "    \"Gender\": [\"Male\", \"Female\", \"Male\", \"Male\", \"Male\", \"Female\"]\n",
    "}\n",
    "df = pd.DataFrame(dict1);\n",
    "print(df);"
   ]
  },
  {
   "cell_type": "markdown",
   "metadata": {},
   "source": [
    "Display Top Three Rows "
   ]
  },
  {
   "cell_type": "code",
   "execution_count": 125,
   "metadata": {},
   "outputs": [
    {
     "name": "stdout",
     "output_type": "stream",
     "text": [
      "      Name  Marks  Gender\n",
      "0  Priyang     98    Male\n",
      "1   Aadhya     99  Female\n",
      "2   Vedant     87    Male\n"
     ]
    }
   ],
   "source": [
    "print(df.head(3));"
   ]
  },
  {
   "cell_type": "markdown",
   "metadata": {},
   "source": [
    "Display last 3 rows"
   ]
  },
  {
   "cell_type": "code",
   "execution_count": 126,
   "metadata": {},
   "outputs": [
    {
     "name": "stdout",
     "output_type": "stream",
     "text": [
      "      Name  Marks  Gender\n",
      "3   Parshv     90    Male\n",
      "4   Mittal     53    Male\n",
      "5  Archana     99  Female\n"
     ]
    }
   ],
   "source": [
    "print(df.tail(3));"
   ]
  },
  {
   "cell_type": "markdown",
   "metadata": {},
   "source": [
    "Find the Shape of Our Dataset (Number of Rows and Number of Columns)"
   ]
  },
  {
   "cell_type": "code",
   "execution_count": 127,
   "metadata": {},
   "outputs": [
    {
     "name": "stdout",
     "output_type": "stream",
     "text": [
      "(6, 3)\n"
     ]
    }
   ],
   "source": [
    "print(df.shape) ;"
   ]
  },
  {
   "cell_type": "markdown",
   "metadata": {},
   "source": [
    "Print number of rows and columns"
   ]
  },
  {
   "cell_type": "code",
   "execution_count": 128,
   "metadata": {},
   "outputs": [
    {
     "name": "stdout",
     "output_type": "stream",
     "text": [
      "Number of Rows 6\n",
      "Number of Columns 3\n"
     ]
    }
   ],
   "source": [
    "print('Number of Rows',df.shape[0])\n",
    "print('Number of Columns',df.shape[1])"
   ]
  },
  {
   "cell_type": "markdown",
   "metadata": {},
   "source": [
    "Get Infromation about our dataset like total Number of ROWS ,Total Number of Columns,Data Types of Each Column and Memory Requirement"
   ]
  },
  {
   "cell_type": "code",
   "execution_count": 129,
   "metadata": {},
   "outputs": [
    {
     "name": "stdout",
     "output_type": "stream",
     "text": [
      "<class 'pandas.core.frame.DataFrame'>\n",
      "RangeIndex: 6 entries, 0 to 5\n",
      "Data columns (total 3 columns):\n",
      " #   Column  Non-Null Count  Dtype \n",
      "---  ------  --------------  ----- \n",
      " 0   Name    6 non-null      object\n",
      " 1   Marks   6 non-null      int64 \n",
      " 2   Gender  6 non-null      object\n",
      "dtypes: int64(1), object(2)\n",
      "memory usage: 276.0+ bytes\n"
     ]
    }
   ],
   "source": [
    "df.info();"
   ]
  },
  {
   "cell_type": "markdown",
   "metadata": {},
   "source": [
    "Check if ther are null values or not ?"
   ]
  },
  {
   "cell_type": "code",
   "execution_count": 130,
   "metadata": {},
   "outputs": [
    {
     "name": "stdout",
     "output_type": "stream",
     "text": [
      "Name      0\n",
      "Marks     0\n",
      "Gender    0\n",
      "dtype: int64\n",
      "0    0\n",
      "1    0\n",
      "2    0\n",
      "3    0\n",
      "4    0\n",
      "5    0\n",
      "dtype: int64\n"
     ]
    }
   ],
   "source": [
    "print(df.isnull().sum(axis=0))\n",
    "print(df.isnull().sum(axis=1))"
   ]
  },
  {
   "cell_type": "markdown",
   "metadata": {},
   "source": [
    "Get overall Statistics about the DataFrame"
   ]
  },
  {
   "cell_type": "code",
   "execution_count": 131,
   "metadata": {},
   "outputs": [
    {
     "name": "stdout",
     "output_type": "stream",
     "text": [
      "           Marks\n",
      "count   6.000000\n",
      "mean   87.666667\n",
      "std    17.727568\n",
      "min    53.000000\n",
      "25%    87.750000\n",
      "50%    94.000000\n",
      "75%    98.750000\n",
      "max    99.000000\n",
      "           Name      Marks Gender\n",
      "count         6   6.000000      6\n",
      "unique        6        NaN      2\n",
      "top     Priyang        NaN   Male\n",
      "freq          1        NaN      4\n",
      "mean        NaN  87.666667    NaN\n",
      "std         NaN  17.727568    NaN\n",
      "min         NaN  53.000000    NaN\n",
      "25%         NaN  87.750000    NaN\n",
      "50%         NaN  94.000000    NaN\n",
      "75%         NaN  98.750000    NaN\n",
      "max         NaN  99.000000    NaN\n"
     ]
    }
   ],
   "source": [
    "print(df.describe());#Since we only have one column that contain numeric variable that's why we are getting descriptive data related only to Marks Columns but if we want data of all columns i.e of that also which are stringed type then pass include=\"all\" value\n",
    "print(df.describe(include=\"all\"));"
   ]
  },
  {
   "cell_type": "markdown",
   "metadata": {},
   "source": [
    "Find the unique values from Gender Columns"
   ]
  },
  {
   "cell_type": "code",
   "execution_count": 132,
   "metadata": {},
   "outputs": [
    {
     "name": "stdout",
     "output_type": "stream",
     "text": [
      "['Male' 'Female']\n"
     ]
    }
   ],
   "source": [
    "print(df['Gender'].unique()) ;"
   ]
  },
  {
   "cell_type": "markdown",
   "metadata": {},
   "source": [
    "Find the number of Unique Values"
   ]
  },
  {
   "cell_type": "code",
   "execution_count": 133,
   "metadata": {},
   "outputs": [
    {
     "name": "stdout",
     "output_type": "stream",
     "text": [
      "2\n"
     ]
    }
   ],
   "source": [
    "print(df['Gender'].nunique());"
   ]
  },
  {
   "cell_type": "markdown",
   "metadata": {},
   "source": [
    "Find the display Count of Unique Values in Gender Column"
   ]
  },
  {
   "cell_type": "code",
   "execution_count": 134,
   "metadata": {},
   "outputs": [
    {
     "name": "stdout",
     "output_type": "stream",
     "text": [
      "Gender\n",
      "Male      4\n",
      "Female    2\n",
      "Name: count, dtype: int64\n"
     ]
    }
   ],
   "source": [
    "print(df['Gender'].value_counts());"
   ]
  },
  {
   "cell_type": "markdown",
   "metadata": {},
   "source": [
    "Find the Total Number of Students having Marks between 90 to 100 "
   ]
  },
  {
   "cell_type": "code",
   "execution_count": 135,
   "metadata": {},
   "outputs": [
    {
     "name": "stdout",
     "output_type": "stream",
     "text": [
      "Name      4\n",
      "Marks     4\n",
      "Gender    4\n",
      "dtype: int64\n"
     ]
    }
   ],
   "source": [
    "x = df[df['Marks']>=90 ]\n",
    "print(x.count());\n"
   ]
  },
  {
   "cell_type": "markdown",
   "metadata": {},
   "source": [
    "Another Way"
   ]
  },
  {
   "cell_type": "code",
   "execution_count": 136,
   "metadata": {},
   "outputs": [
    {
     "name": "stdout",
     "output_type": "stream",
     "text": [
      "      Name  Marks  Gender\n",
      "0  Priyang     98    Male\n",
      "1   Aadhya     99  Female\n",
      "3   Parshv     90    Male\n",
      "5  Archana     99  Female\n",
      "      Name  Marks  Gender\n",
      "0  Priyang     98    Male\n",
      "1   Aadhya     99  Female\n",
      "3   Parshv     90    Male\n",
      "5  Archana     99  Female\n",
      "4\n",
      "4\n"
     ]
    }
   ],
   "source": [
    "print(df[df[\"Marks\"]>=90]);\n",
    "print(df[(df[\"Marks\"]>=90) & (df[\"Marks\"]<=100)]);\n",
    "#To get Lenght\n",
    "print(len(df[df[\"Marks\"]>=90]));\n",
    "print(len(df[(df[\"Marks\"]>=90) & (df[\"Marks\"]<=100)]));\n"
   ]
  },
  {
   "cell_type": "markdown",
   "metadata": {},
   "source": [
    "Using Between Method"
   ]
  },
  {
   "cell_type": "code",
   "execution_count": 137,
   "metadata": {},
   "outputs": [
    {
     "name": "stdout",
     "output_type": "stream",
     "text": [
      "0     True\n",
      "1     True\n",
      "2    False\n",
      "3    False\n",
      "4    False\n",
      "5     True\n",
      "Name: Marks, dtype: bool\n",
      "3\n"
     ]
    }
   ],
   "source": [
    "print(df[\"Marks\"].between(95,100))\n",
    "print(len(df[df[\"Marks\"].between(95,100)]))"
   ]
  },
  {
   "cell_type": "markdown",
   "metadata": {},
   "source": [
    "Find Average Marks"
   ]
  },
  {
   "cell_type": "code",
   "execution_count": 138,
   "metadata": {},
   "outputs": [
    {
     "name": "stdout",
     "output_type": "stream",
     "text": [
      "87.66666666666667\n",
      "53\n",
      "99\n"
     ]
    }
   ],
   "source": [
    "print(df[\"Marks\"].mean());\n",
    "print(df[\"Marks\"].min());\n",
    "print(df[\"Marks\"].max());"
   ]
  },
  {
   "cell_type": "markdown",
   "metadata": {},
   "source": [
    "Create you own method and apply that method to data frame"
   ]
  },
  {
   "cell_type": "markdown",
   "metadata": {},
   "source": [
    "For this u'll need apply method"
   ]
  },
  {
   "cell_type": "code",
   "execution_count": 139,
   "metadata": {},
   "outputs": [],
   "source": [
    "def marks(x):\n",
    "    return x/2;"
   ]
  },
  {
   "cell_type": "code",
   "execution_count": 140,
   "metadata": {},
   "outputs": [
    {
     "name": "stdout",
     "output_type": "stream",
     "text": [
      "0    49.0\n",
      "1    49.5\n",
      "2    43.5\n",
      "3    45.0\n",
      "4    26.5\n",
      "5    49.5\n",
      "Name: divided_marks, dtype: float64\n"
     ]
    }
   ],
   "source": [
    "df[\"divided_marks\"] = df['Marks'].apply(marks)\n",
    "print(df[\"divided_marks\"])"
   ]
  },
  {
   "cell_type": "markdown",
   "metadata": {},
   "source": [
    "Let's apply lambda function with apply method"
   ]
  },
  {
   "cell_type": "code",
   "execution_count": 141,
   "metadata": {},
   "outputs": [
    {
     "name": "stdout",
     "output_type": "stream",
     "text": [
      "0    49.0\n",
      "1    49.5\n",
      "2    43.5\n",
      "3    45.0\n",
      "4    26.5\n",
      "5    49.5\n",
      "Name: Marks, dtype: float64\n"
     ]
    }
   ],
   "source": [
    "df_lambda = df[\"Marks\"].apply(lambda x:x/2);\n",
    "print(df_lambda)"
   ]
  },
  {
   "cell_type": "markdown",
   "metadata": {},
   "source": [
    "Lenght of String in Name Column"
   ]
  },
  {
   "cell_type": "code",
   "execution_count": 142,
   "metadata": {},
   "outputs": [
    {
     "data": {
      "text/plain": [
       "0    7\n",
       "1    6\n",
       "2    6\n",
       "3    6\n",
       "4    6\n",
       "5    7\n",
       "Name: Name, dtype: int64"
      ]
     },
     "execution_count": 142,
     "metadata": {},
     "output_type": "execute_result"
    }
   ],
   "source": [
    "df[\"Name\"].apply(len)"
   ]
  },
  {
   "cell_type": "markdown",
   "metadata": {},
   "source": [
    "Use map function"
   ]
  },
  {
   "cell_type": "code",
   "execution_count": 143,
   "metadata": {},
   "outputs": [],
   "source": [
    "df[\"Male_Female\"]=df[\"Gender\"].map({'Male':1,'Female':0});"
   ]
  },
  {
   "cell_type": "markdown",
   "metadata": {},
   "source": [
    "Drop the Columns or  Columns"
   ]
  },
  {
   "cell_type": "code",
   "execution_count": 146,
   "metadata": {},
   "outputs": [
    {
     "name": "stdout",
     "output_type": "stream",
     "text": [
      "      Name  Marks  Gender  Male_Female\n",
      "0  Priyang     98    Male            1\n",
      "1   Aadhya     99  Female            0\n",
      "2   Vedant     87    Male            1\n",
      "3   Parshv     90    Male            1\n",
      "4   Mittal     53    Male            1\n",
      "5  Archana     99  Female            0\n",
      "      Name  Marks  Gender\n",
      "0  Priyang     98    Male\n",
      "1   Aadhya     99  Female\n",
      "2   Vedant     87    Male\n",
      "3   Parshv     90    Male\n",
      "4   Mittal     53    Male\n",
      "5  Archana     99  Female\n"
     ]
    }
   ],
   "source": [
    "print(df.drop(\"divided_marks\",axis=1));\n",
    "#For Multiple Columns\n",
    "print(df.drop([\"divided_marks\",\"Male_Female\"],axis = 1 ));"
   ]
  },
  {
   "cell_type": "markdown",
   "metadata": {},
   "source": [
    "Print Names Of Columns"
   ]
  },
  {
   "cell_type": "code",
   "execution_count": 149,
   "metadata": {},
   "outputs": [
    {
     "name": "stdout",
     "output_type": "stream",
     "text": [
      "Index(['Name', 'Marks', 'Gender', 'divided_marks', 'Male_Female'], dtype='object')\n",
      "RangeIndex(start=0, stop=6, step=1)\n"
     ]
    }
   ],
   "source": [
    "print(df.columns);\n",
    "print(df.index);"
   ]
  },
  {
   "cell_type": "markdown",
   "metadata": {},
   "source": [
    "Sort THE MARKS OF Students"
   ]
  },
  {
   "cell_type": "code",
   "execution_count": 153,
   "metadata": {},
   "outputs": [
    {
     "name": "stdout",
     "output_type": "stream",
     "text": [
      "      Name  Marks  Gender  divided_marks  Male_Female\n",
      "4   Mittal     53    Male           26.5            1\n",
      "2   Vedant     87    Male           43.5            1\n",
      "3   Parshv     90    Male           45.0            1\n",
      "0  Priyang     98    Male           49.0            1\n",
      "1   Aadhya     99  Female           49.5            0\n",
      "5  Archana     99  Female           49.5            0\n"
     ]
    }
   ],
   "source": [
    "print(df.sort_values(by=\"Marks\"));\n",
    "# For multiple values you can simple pass list contain values in by parameter instead of Marks\n"
   ]
  },
  {
   "cell_type": "markdown",
   "metadata": {},
   "source": [
    "Display name and marks of female studenst only"
   ]
  },
  {
   "cell_type": "code",
   "execution_count": 156,
   "metadata": {},
   "outputs": [
    {
     "data": {
      "text/html": [
       "<div>\n",
       "<style scoped>\n",
       "    .dataframe tbody tr th:only-of-type {\n",
       "        vertical-align: middle;\n",
       "    }\n",
       "\n",
       "    .dataframe tbody tr th {\n",
       "        vertical-align: top;\n",
       "    }\n",
       "\n",
       "    .dataframe thead th {\n",
       "        text-align: right;\n",
       "    }\n",
       "</style>\n",
       "<table border=\"1\" class=\"dataframe\">\n",
       "  <thead>\n",
       "    <tr style=\"text-align: right;\">\n",
       "      <th></th>\n",
       "      <th>Name</th>\n",
       "      <th>Marks</th>\n",
       "    </tr>\n",
       "  </thead>\n",
       "  <tbody>\n",
       "    <tr>\n",
       "      <th>1</th>\n",
       "      <td>Aadhya</td>\n",
       "      <td>99</td>\n",
       "    </tr>\n",
       "    <tr>\n",
       "      <th>5</th>\n",
       "      <td>Archana</td>\n",
       "      <td>99</td>\n",
       "    </tr>\n",
       "  </tbody>\n",
       "</table>\n",
       "</div>"
      ],
      "text/plain": [
       "      Name  Marks\n",
       "1   Aadhya     99\n",
       "5  Archana     99"
      ]
     },
     "execution_count": 156,
     "metadata": {},
     "output_type": "execute_result"
    }
   ],
   "source": [
    "df[df[\"Gender\"] == \"Female\"][[\"Name\",\"Marks\"]]"
   ]
  },
  {
   "cell_type": "markdown",
   "metadata": {},
   "source": [
    "We can also solve above quesion with isin method"
   ]
  },
  {
   "cell_type": "code",
   "execution_count": 159,
   "metadata": {},
   "outputs": [
    {
     "name": "stdout",
     "output_type": "stream",
     "text": [
      "      Name  Marks\n",
      "1   Aadhya     99\n",
      "5  Archana     99\n"
     ]
    }
   ],
   "source": [
    "print(df[df[\"Gender\"].isin([\"Female\"])][[\"Name\",\"Marks\"]]);"
   ]
  }
 ],
 "metadata": {
  "kernelspec": {
   "display_name": "Python 3",
   "language": "python",
   "name": "python3"
  },
  "language_info": {
   "codemirror_mode": {
    "name": "ipython",
    "version": 3
   },
   "file_extension": ".py",
   "mimetype": "text/x-python",
   "name": "python",
   "nbconvert_exporter": "python",
   "pygments_lexer": "ipython3",
   "version": "3.11.3"
  }
 },
 "nbformat": 4,
 "nbformat_minor": 2
}
